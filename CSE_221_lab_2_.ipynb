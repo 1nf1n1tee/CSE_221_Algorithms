{
  "nbformat": 4,
  "nbformat_minor": 0,
  "metadata": {
    "colab": {
      "provenance": [],
      "authorship_tag": "ABX9TyNqd570n/2Xnq/LPkrRCVxX",
      "include_colab_link": true
    },
    "kernelspec": {
      "name": "python3",
      "display_name": "Python 3"
    },
    "language_info": {
      "name": "python"
    }
  },
  "cells": [
    {
      "cell_type": "markdown",
      "metadata": {
        "id": "view-in-github",
        "colab_type": "text"
      },
      "source": [
        "<a href=\"https://colab.research.google.com/github/1nf1n1tee/CSE_221_Algorithms/blob/main/CSE_221_lab_2_.ipynb\" target=\"_parent\"><img src=\"https://colab.research.google.com/assets/colab-badge.svg\" alt=\"Open In Colab\"/></a>"
      ]
    },
    {
      "cell_type": "markdown",
      "source": [
        "Task 1 "
      ],
      "metadata": {
        "id": "_zz4-gchcGCT"
      }
    },
    {
      "cell_type": "code",
      "execution_count": null,
      "metadata": {
        "id": "6t0_6V6bbPd1"
      },
      "outputs": [],
      "source": [
        "inp_1 = open('/content/input_1.txt','r')\n",
        "out_1 = open('/content/output_1.txt','w')\n",
        "inpt_1 = inp_1.readline().split()\n",
        "for i in range(len(inpt_1)):\n",
        "  inpt_1[i] = int(inpt_1[i])\n",
        "#print(inpt_1)\n",
        "arr = inp_1.readline().split()\n",
        "for i in range(len(arr)):\n",
        "  arr[i] = int(arr[i])\n",
        "#print(arr)\n",
        "flag = False\n",
        "for i in range(inpt_1[0]-1):\n",
        "  for j in range(1,inpt_1[0]):\n",
        "    if arr[i]+arr[j] == inpt_1[1]:\n",
        "      print(str(i+1)+' '+str(j+1),file=out_1)\n",
        "      flag = True\n",
        "      break\n",
        "  if flag == True:\n",
        "    break\n",
        "if flag == False:\n",
        "  print('IMPOSSIBLE',file=out_1)\n",
        "\n",
        "inp_1.close()\n",
        "out_1.close()"
      ]
    },
    {
      "cell_type": "markdown",
      "source": [
        "Task 1b"
      ],
      "metadata": {
        "id": "J2opS4hh0hSe"
      }
    },
    {
      "cell_type": "code",
      "source": [
        "#team sort bubble and insertion \n",
        "inp_1 = open('/content/input_1.txt','r')\n",
        "out_1 = open('/content/output_1.txt','w')\n",
        "dict1 = {}\n",
        "inpt_1b = inp_1.readline().split()\n",
        "for i in range(len(inpt_1b)):\n",
        "  inpt_1b[i] = int(inpt_1b[i])\n",
        "arr = inp_1.readline().split()\n",
        "for i in range(len(arr)):\n",
        "  arr[i] = int(arr[i])\n",
        "  dict1[arr[i]] = i\n",
        "arr.sort()\n",
        "#print(arr)\n",
        "i = 0\n",
        "j = len(arr)-1\n",
        "flag = False\n",
        "while i != j:\n",
        "  if arr[i] + arr[j] == inpt_1b[1]:\n",
        "    if dict1[arr[i]]+1 < dict1[arr[j]]+1:\n",
        "      print(f\"{dict1[arr[i]]+1} {dict1[arr[j]]+1}\",file = out_1)\n",
        "    else:\n",
        "      print(f\"{dict1[arr[j]]+1} {dict1[arr[i]]+1}\",file = out_1)\n",
        "    flag = True\n",
        "    break\n",
        "  elif arr[i] + arr[j] < inpt_1b[1]:\n",
        "    i += 1\n",
        "  else:\n",
        "    j-=1\n",
        "if flag == False:\n",
        "  print('IMPOSSIBLE',file = out_1)\n",
        "inp_1.close()\n",
        "out_1.close()"
      ],
      "metadata": {
        "id": "CA0eCaApu4NR"
      },
      "execution_count": null,
      "outputs": []
    },
    {
      "cell_type": "markdown",
      "source": [
        "Task 2 a"
      ],
      "metadata": {
        "id": "H8jb9HRg_Ee6"
      }
    },
    {
      "cell_type": "code",
      "source": [
        "inp_2 = open('/content/input2a.txt','r')\n",
        "out_2 = open('/content/output2a.txt','w')\n",
        "num_2_1 = int(inp_2.readline())\n",
        "num_2_inp = inp_2.readline().split()\n",
        "for i in range(num_2_1):\n",
        "  num_2_inp[i] = int(num_2_inp[i])\n",
        "#print(num_2_inp)\n",
        "num_2_2 = int(inp_2.readline())\n",
        "num_2_inp_2 = inp_2.readline().split()\n",
        "for i in range(num_2_2):\n",
        "  num_2_inp_2[i] = int(num_2_inp_2[i])\n",
        "#print(num_2_inp_2)\n",
        "out = num_2_inp + num_2_inp_2\n",
        "out.sort()\n",
        "print(out,file = out_2)\n",
        "out_2.close()"
      ],
      "metadata": {
        "id": "ll05j6J741UB"
      },
      "execution_count": null,
      "outputs": []
    },
    {
      "cell_type": "markdown",
      "source": [
        "Task 2 b"
      ],
      "metadata": {
        "id": "hXfixwiqG1Xu"
      }
    },
    {
      "cell_type": "code",
      "source": [
        "inp_2 = open('/content/input2a.txt','r')\n",
        "out_2 = open('/content/output2a.txt','w')\n",
        "\n",
        "p = int(inp_2.readline())\n",
        "arr_1 = inp_2.readline().split()\n",
        "for i in range(p):\n",
        "  arr_1[i] = int(arr_1[i])\n",
        "\n",
        "q = int(inp_2.readline())\n",
        "arr_2 = inp_2.readline().split()\n",
        "for i in range(q):\n",
        "  arr_2[i] = int(arr_2[i])\n",
        "var = merge(arr_1,arr_2)\n",
        "print(var,file=out_2)\n",
        "out_2.close()"
      ],
      "metadata": {
        "id": "_dlv4_QdFBvQ"
      },
      "execution_count": null,
      "outputs": []
    },
    {
      "cell_type": "markdown",
      "source": [
        "Task 3"
      ],
      "metadata": {
        "id": "iKNzzFjdnLYb"
      }
    },
    {
      "cell_type": "code",
      "source": [
        "def merge_sort(arr):\n",
        "  if len(arr) == 1:\n",
        "    return arr\n",
        "  else:\n",
        "    mid = len(arr)//2\n",
        "    left = merge_sort(arr[:mid])\n",
        "    right = merge_sort(arr[mid:])\n",
        "    return merge(left,right)\n",
        "\n",
        "\n",
        "def merge(arr_1,arr_2):\n",
        "  i = j = 0\n",
        "  new_arr = []\n",
        "  while i < len(arr_1) and j < len(arr_2):\n",
        "    if arr_1[i] <= arr_2[j]:\n",
        "      new_arr.append(arr_1[i])\n",
        "      i+=1\n",
        "    else:\n",
        "      new_arr.append(arr_2[j])\n",
        "      j+=1\n",
        "  new_arr += arr_1[i:]\n",
        "  new_arr += arr_2[j:]\n",
        "  return new_arr"
      ],
      "metadata": {
        "id": "THZYp64UnMqR"
      },
      "execution_count": null,
      "outputs": []
    },
    {
      "cell_type": "code",
      "source": [
        "inp_3 = open('/content/input3.txt','r')\n",
        "out_3 = open('/content/output3.txt','w')\n",
        "\n",
        "p = int(inp_3.readline())\n",
        "arr_1 = inp_3.readline().split()\n",
        "for i in range(p):\n",
        "  arr_1[i] = int(arr_1[i])\n",
        "var = merge_sort(arr_1)\n",
        "print(var,file=out_3)\n",
        "out_3.close()"
      ],
      "metadata": {
        "id": "bjU1efq5nSwS"
      },
      "execution_count": null,
      "outputs": []
    }
  ]
}